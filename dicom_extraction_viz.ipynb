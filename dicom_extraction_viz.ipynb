{
 "cells": [
  {
   "cell_type": "code",
   "execution_count": 1,
   "metadata": {},
   "outputs": [
    {
     "name": "stdout",
     "output_type": "stream",
     "text": [
      "Sample DICOM Path: C:\\Users\\gukav\\OneDrive\\Documents\\cpp\\python\\health\\dicom-00096.dcm\n",
      "Patient-related metadata: {'PatientName': 'NAME^NONE', 'PatientID': 'NOID', 'PatientBirthDate': ''}\n",
      "Image-related metadata: {'StudyDate': '20100806', 'Modality': 'CT', 'ImageType': ['ORIGINAL', 'PRIMARY', 'AXIAL'], 'Rows': 512, 'Columns': 512, 'BitsAllocated': 8}\n",
      "Machine-related metadata: {'Manufacturer': 'GE MEDICAL SYSTEMS', 'ManufacturerModelName': 'Revolution EVO', 'StationName': ''}\n"
     ]
    }
   ],
   "source": [
    "import os\n",
    "import pydicom\n",
    "import random\n",
    "import matplotlib.pyplot as plt\n",
    "import pydicom\n",
    "from PIL import Image\n",
    "\n",
    "# Specify the path to the directory containing DICOM files\n",
    "dicom_directory = \"C:\\\\Users\\\\gukav\\\\OneDrive\\\\Documents\\\\cpp\\\\python\\\\health\"\n",
    "\n",
    "\n",
    "# Create dictionaries to store metadata categories\n",
    "patient_metadata = {}\n",
    "image_metadata = {}\n",
    "machine_metadata = {}\n",
    "\n",
    "# Iterate through DICOM files in the directory\n",
    "for filename in os.listdir(dicom_directory):\n",
    "    dicom_path = os.path.join(dicom_directory, filename)\n",
    "    \n",
    "    # Check if the file is a valid DICOM file\n",
    "    if not filename.endswith(\".dcm\"):\n",
    "        continue\n",
    "    \n",
    "    try:\n",
    "        dicom_file = pydicom.dcmread(dicom_path)\n",
    "        \n",
    "        # Extract patient-related metadata\n",
    "        patient_data = {\n",
    "            \"PatientName\": dicom_file.get(\"PatientName\", \"\"),\n",
    "            \"PatientID\": dicom_file.get(\"PatientID\", \"\"),\n",
    "            \"PatientBirthDate\": dicom_file.get(\"PatientBirthDate\", \"\"),\n",
    "            # Add more patient-related attributes as needed\n",
    "        }\n",
    "        \n",
    "        # Extract image-related metadata\n",
    "        image_data = {\n",
    "            \"StudyDate\": dicom_file.get(\"StudyDate\", \"\"),\n",
    "            \"Modality\": dicom_file.get(\"Modality\", \"\"),\n",
    "            \"ImageType\": dicom_file.get(\"ImageType\", []),\n",
    "            \"Rows\": dicom_file.get(\"Rows\", \"\"),\n",
    "            \"Columns\": dicom_file.get(\"Columns\", \"\"),\n",
    "            \"BitsAllocated\": dicom_file.get(\"BitsAllocated\", \"\"),\n",
    "            # Add more image-related attributes as needed\n",
    "        }\n",
    "        \n",
    "        # Extract machine-related metadata\n",
    "        machine_data = {\n",
    "            \"Manufacturer\": dicom_file.get(\"Manufacturer\", \"\"),\n",
    "            \"ManufacturerModelName\": dicom_file.get(\"ManufacturerModelName\", \"\"),\n",
    "            \"StationName\": dicom_file.get(\"StationName\", \"\"),\n",
    "            # Add more machine-related attributes as needed\n",
    "        }\n",
    "        \n",
    "        # Store metadata in respective dictionaries\n",
    "        patient_metadata[dicom_path] = patient_data\n",
    "        image_metadata[dicom_path] = image_data\n",
    "        machine_metadata[dicom_path] = machine_data\n",
    "\n",
    "    except Exception as e:\n",
    "        print(f\"Error reading {dicom_path}: {e}\")\n",
    "if patient_metadata:\n",
    "    # Select a random DICOM file path\n",
    "    sample_dicom_path = random.choice(list(patient_metadata.keys()))\n",
    "\n",
    "\n",
    "\n",
    "        # Read the DICOM file\n",
    "    ds = pydicom.dcmread(sample_dicom_path)\n",
    "\n",
    "    # Get pixel data and convert to Pillow Image\n",
    "    pixel_data = ds.pixel_array\n",
    "    image = Image.fromarray(pixel_data)\n",
    "\n",
    "    # Display the image\n",
    "    image.show()\n",
    "\n",
    "    # Print extracted metadata for the selected DICOM file\n",
    "    print(\"Sample DICOM Path:\", sample_dicom_path)\n",
    "    print(\"Patient-related metadata:\", patient_metadata[sample_dicom_path])\n",
    "    print(\"Image-related metadata:\", image_metadata[sample_dicom_path])\n",
    "    print(\"Machine-related metadata:\", machine_metadata[sample_dicom_path])\n",
    "else:\n",
    "    print(\"No valid DICOM files found in the directory.\")"
   ]
  },
  {
   "cell_type": "code",
   "execution_count": 2,
   "metadata": {},
   "outputs": [],
   "source": [
    "import pydicom\n",
    "from PIL import Image\n",
    "# Specify the path to your DICOM file\n",
    "dicom_path = \"C:\\\\Users\\\\gukav\\\\OneDrive\\\\Documents\\\\cpp\\\\python\\\\dicom-00003.dcm\"\n",
    "\n",
    "\n",
    "# Read the DICOM file\n",
    "ds = pydicom.dcmread(dicom_path)\n",
    "\n",
    "# Get pixel data and convert to Pillow Image\n",
    "pixel_data = ds.pixel_array\n",
    "image = Image.fromarray(pixel_data)\n",
    "\n",
    "# Display the image\n",
    "image.show()\n"
   ]
  },
  {
   "cell_type": "code",
   "execution_count": 15,
   "metadata": {},
   "outputs": [
    {
     "name": "stdout",
     "output_type": "stream",
     "text": [
      "Requirement already satisfied: gdcm in c:\\users\\gukav\\appdata\\local\\programs\\python\\python311\\lib\\site-packages (1.1)\n",
      "Note: you may need to restart the kernel to use updated packages.\n"
     ]
    }
   ],
   "source": [
    "pip install gdcm"
   ]
  },
  {
   "cell_type": "code",
   "execution_count": 14,
   "metadata": {},
   "outputs": [
    {
     "name": "stdout",
     "output_type": "stream",
     "text": [
      "Requirement already satisfied: pip in c:\\users\\gukav\\appdata\\local\\programs\\python\\python311\\lib\\site-packages (22.3.1)Note: you may need to restart the kernel to use updated packages.\n",
      "\n",
      "Collecting pip\n",
      "  Using cached pip-23.2.1-py3-none-any.whl (2.1 MB)\n",
      "Installing collected packages: pip\n",
      "  Attempting uninstall: pip\n",
      "    Found existing installation: pip 22.3.1\n",
      "    Uninstalling pip-22.3.1:\n",
      "      Successfully uninstalled pip-22.3.1\n",
      "Successfully installed pip-23.2.1\n"
     ]
    }
   ],
   "source": [
    "pip install --upgrade pip"
   ]
  },
  {
   "cell_type": "code",
   "execution_count": 16,
   "metadata": {},
   "outputs": [
    {
     "name": "stdout",
     "output_type": "stream",
     "text": [
      "Collecting pylibjpeg\n",
      "  Using cached pylibjpeg-1.4.0-py3-none-any.whl (28 kB)\n",
      "Requirement already satisfied: numpy in c:\\users\\gukav\\appdata\\local\\programs\\python\\python311\\lib\\site-packages (from pylibjpeg) (1.25.2)\n",
      "Installing collected packages: pylibjpeg\n",
      "Successfully installed pylibjpeg-1.4.0\n",
      "Note: you may need to restart the kernel to use updated packages.\n"
     ]
    }
   ],
   "source": [
    "pip install pylibjpeg"
   ]
  },
  {
   "cell_type": "code",
   "execution_count": 2,
   "metadata": {},
   "outputs": [
    {
     "name": "stdout",
     "output_type": "stream",
     "text": [
      "Collecting pylibjpeg-libjpeg\n",
      "  Downloading pylibjpeg_libjpeg-1.3.4-cp311-cp311-win_amd64.whl (1.7 MB)\n",
      "     ---------------------------------------- 0.0/1.7 MB ? eta -:--:--\n",
      "      --------------------------------------- 0.0/1.7 MB 1.4 MB/s eta 0:00:02\n",
      "     - -------------------------------------- 0.1/1.7 MB 660.6 kB/s eta 0:00:03\n",
      "     -- ------------------------------------- 0.1/1.7 MB 804.6 kB/s eta 0:00:02\n",
      "     ---- ----------------------------------- 0.2/1.7 MB 958.1 kB/s eta 0:00:02\n",
      "     ----- ---------------------------------- 0.3/1.7 MB 1.1 MB/s eta 0:00:02\n",
      "     ------- -------------------------------- 0.3/1.7 MB 1.2 MB/s eta 0:00:02\n",
      "     --------- ------------------------------ 0.4/1.7 MB 1.2 MB/s eta 0:00:02\n",
      "     ---------- ----------------------------- 0.5/1.7 MB 1.3 MB/s eta 0:00:01\n",
      "     ------------ --------------------------- 0.5/1.7 MB 1.3 MB/s eta 0:00:01\n",
      "     ------------- -------------------------- 0.6/1.7 MB 1.3 MB/s eta 0:00:01\n",
      "     --------------- ------------------------ 0.7/1.7 MB 1.3 MB/s eta 0:00:01\n",
      "     ---------------- ----------------------- 0.7/1.7 MB 1.3 MB/s eta 0:00:01\n",
      "     ----------------- ---------------------- 0.7/1.7 MB 1.2 MB/s eta 0:00:01\n",
      "     ----------------- ---------------------- 0.7/1.7 MB 1.1 MB/s eta 0:00:01\n",
      "     ------------------ --------------------- 0.8/1.7 MB 1.1 MB/s eta 0:00:01\n",
      "     ------------------ --------------------- 0.8/1.7 MB 1.1 MB/s eta 0:00:01\n",
      "     ------------------ --------------------- 0.8/1.7 MB 1.1 MB/s eta 0:00:01\n",
      "     ------------------ --------------------- 0.8/1.7 MB 1.1 MB/s eta 0:00:01\n",
      "     ------------------ --------------------- 0.8/1.7 MB 1.1 MB/s eta 0:00:01\n",
      "     ------------------ --------------------- 0.8/1.7 MB 1.1 MB/s eta 0:00:01\n",
      "     ------------------ --------------------- 0.8/1.7 MB 1.1 MB/s eta 0:00:01\n",
      "     ------------------ --------------------- 0.8/1.7 MB 1.1 MB/s eta 0:00:01\n",
      "     ------------------------ --------------- 1.0/1.7 MB 949.9 kB/s eta 0:00:01\n",
      "     ------------------------ --------------- 1.1/1.7 MB 951.1 kB/s eta 0:00:01\n",
      "     ------------------------- -------------- 1.1/1.7 MB 947.8 kB/s eta 0:00:01\n",
      "     --------------------------- ------------ 1.2/1.7 MB 950.0 kB/s eta 0:00:01\n",
      "     ----------------------------- ---------- 1.2/1.7 MB 979.5 kB/s eta 0:00:01\n",
      "     ------------------------------ --------- 1.3/1.7 MB 1.0 MB/s eta 0:00:01\n",
      "     --------------------------------- ------ 1.4/1.7 MB 1.1 MB/s eta 0:00:01\n",
      "     --------------------------------- ------ 1.4/1.7 MB 1.0 MB/s eta 0:00:01\n",
      "     ----------------------------------- ---- 1.5/1.7 MB 1.0 MB/s eta 0:00:01\n",
      "     ----------------------------------- ---- 1.5/1.7 MB 1.0 MB/s eta 0:00:01\n",
      "     ------------------------------------- -- 1.6/1.7 MB 1.0 MB/s eta 0:00:01\n",
      "     -------------------------------------- - 1.6/1.7 MB 1.0 MB/s eta 0:00:01\n",
      "     ---------------------------------------  1.7/1.7 MB 1.0 MB/s eta 0:00:01\n",
      "     ---------------------------------------- 1.7/1.7 MB 1.0 MB/s eta 0:00:00\n",
      "Requirement already satisfied: numpy>=1.23.2 in c:\\users\\gukav\\appdata\\local\\programs\\python\\python311\\lib\\site-packages (from pylibjpeg-libjpeg) (1.25.2)\n",
      "Installing collected packages: pylibjpeg-libjpeg\n",
      "Successfully installed pylibjpeg-libjpeg-1.3.4\n",
      "Note: you may need to restart the kernel to use updated packages.\n"
     ]
    }
   ],
   "source": [
    " pip install pylibjpeg-libjpeg"
   ]
  },
  {
   "cell_type": "code",
   "execution_count": null,
   "metadata": {},
   "outputs": [],
   "source": []
  }
 ],
 "metadata": {
  "kernelspec": {
   "display_name": "Python 3",
   "language": "python",
   "name": "python3"
  },
  "language_info": {
   "codemirror_mode": {
    "name": "ipython",
    "version": 3
   },
   "file_extension": ".py",
   "mimetype": "text/x-python",
   "name": "python",
   "nbconvert_exporter": "python",
   "pygments_lexer": "ipython3",
   "version": "3.11.0"
  },
  "orig_nbformat": 4
 },
 "nbformat": 4,
 "nbformat_minor": 2
}
