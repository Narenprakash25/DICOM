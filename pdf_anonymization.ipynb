{
 "cells": [
  {
   "cell_type": "code",
   "execution_count": 2,
   "metadata": {},
   "outputs": [],
   "source": [
    "import PyPDF2\n",
    "import os\n",
    "def anonymize_pdf(pdf_path):\n",
    "    pdf = PyPDF2.PdfReader(pdf_path)\n",
    "    pdf_writer = PyPDF2.PdfWriter()\n",
    "\n",
    "    for page_num in range(len(pdf.pages)):\n",
    "        page = pdf.pages[page_num]\n",
    "        text = page.extract_text()\n",
    "\n",
    "        # Perform anonymization on the extracted text\n",
    "        # Replace patient name, gender, age, hospital name/logo, etc.\n",
    "\n",
    "        # Create a new page with the anonymized text\n",
    "        new_page = PyPDF2.PageObject.create_blank_page(width=page.mediabox[2], height=page.mediabox[3])  # Get page size from mediaBox\n",
    "        new_page.merge_page(page)\n",
    "        pdf_writer.add_page(new_page)\n",
    "\n",
    "    output_path = pdf_path.replace(\".pdf\", \"_anonymized.pdf\")\n",
    "    with open(output_path, \"wb\") as output_pdf:\n",
    "        pdf_writer.write(output_pdf)\n",
    "\n",
    "# Iterate through all PDFs in the directory\n",
    "pdf_directory = \"C://Users//gukav//OneDrive//Documents//cpp//python//PDFs\"\n",
    "for filename in os.listdir(pdf_directory):\n",
    "    if filename.endswith(\".pdf\"):\n",
    "        pdf_path = os.path.join(pdf_directory, filename)\n",
    "        anonymize_pdf(pdf_path)\n"
   ]
  },
  {
   "cell_type": "code",
   "execution_count": 2,
   "metadata": {},
   "outputs": [
    {
     "name": "stdout",
     "output_type": "stream",
     "text": [
      "Collecting PyPDF2\n",
      "  Downloading pypdf2-3.0.1-py3-none-any.whl (232 kB)\n",
      "     ---------------------------------------- 0.0/232.6 kB ? eta -:--:--\n",
      "     ------ ------------------------------ 41.0/232.6 kB 960.0 kB/s eta 0:00:01\n",
      "     --------------- ----------------------- 92.2/232.6 kB 1.3 MB/s eta 0:00:01\n",
      "     --------------------------------- ---- 204.8/232.6 kB 1.6 MB/s eta 0:00:01\n",
      "     -------------------------------------- 232.6/232.6 kB 1.4 MB/s eta 0:00:00\n",
      "Installing collected packages: PyPDF2\n",
      "Successfully installed PyPDF2-3.0.1\n",
      "Note: you may need to restart the kernel to use updated packages.\n"
     ]
    }
   ],
   "source": [
    "pip install PyPDF2"
   ]
  },
  {
   "cell_type": "code",
   "execution_count": 4,
   "metadata": {},
   "outputs": [
    {
     "name": "stdout",
     "output_type": "stream",
     "text": [
      "Normal Cases: 9\n",
      "Abnormal Cases: 41\n"
     ]
    }
   ],
   "source": [
    "import PyPDF2\n",
    "import re\n",
    "\n",
    "abnormal_keywords = [\"ventriculomegaly\", \"spina bifida\", \"ectopic foci\", \"posterior fossa cyst\", \"choroid plexus cyst\", \"mega cisterna magna\", \"absent nasal bone\"]\n",
    "\n",
    "normal_count = 0\n",
    "abnormal_count = 0\n",
    "\n",
    "pdf_directory = \"C://Users//gukav//OneDrive//Documents//cpp//python//PDFs\"\n",
    "for filename in os.listdir(pdf_directory):\n",
    "    if filename.endswith(\"_anonymized.pdf\"):\n",
    "        pdf_path = os.path.join(pdf_directory, filename)\n",
    "        pdf = PyPDF2.PdfReader(pdf_path)\n",
    "\n",
    "        pdf_text = \"\"\n",
    "        for page in pdf.pages:\n",
    "            pdf_text += page.extract_text()\n",
    "\n",
    "        # Check if abnormal keywords are present in the text\n",
    "        if any(keyword in pdf_text for keyword in abnormal_keywords):\n",
    "            abnormal_count += 1\n",
    "        else:\n",
    "            normal_count += 1\n",
    "\n",
    "print(\"Normal Cases:\", normal_count)\n",
    "print(\"Abnormal Cases:\", abnormal_count)\n"
   ]
  },
  {
   "cell_type": "code",
   "execution_count": null,
   "metadata": {},
   "outputs": [],
   "source": []
  }
 ],
 "metadata": {
  "kernelspec": {
   "display_name": "Python 3",
   "language": "python",
   "name": "python3"
  },
  "language_info": {
   "codemirror_mode": {
    "name": "ipython",
    "version": 3
   },
   "file_extension": ".py",
   "mimetype": "text/x-python",
   "name": "python",
   "nbconvert_exporter": "python",
   "pygments_lexer": "ipython3",
   "version": "3.11.0"
  },
  "orig_nbformat": 4
 },
 "nbformat": 4,
 "nbformat_minor": 2
}
